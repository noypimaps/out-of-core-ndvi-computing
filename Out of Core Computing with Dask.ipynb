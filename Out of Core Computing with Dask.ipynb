{
 "cells": [
  {
   "cell_type": "markdown",
   "metadata": {
    "deletable": true,
    "editable": true
   },
   "source": [
    "## Out of Core NDVI Computing with Dask\n",
    "\n",
    "The following is the implementation specifics of the topic `Out of Core Computing with Dask`. Dask is python library which deals with parallel and distributed computing. It allows processing of data which goes beyond your machine's memory.\n",
    "\n",
    "For an in-depth tutorial/overview of Dask please refer to the following links:\n",
    "- http://dask.pydata.org/en/latest/\n",
    "- https://github.com/mrocklin/dask-pydata-dc-2016\n",
    "- https://www.youtube.com/watch?v=s4ChP7tc3tA"
   ]
  },
  {
   "cell_type": "markdown",
   "metadata": {
    "deletable": true,
    "editable": true
   },
   "source": [
    "### VM Specifications\n",
    "For this notebook, we have setup a virtual machine with the following resources:\n",
    "- Processors: 2\n",
    "- RAM: 1GB\n",
    "\n",
    "We have setup this virtual machine in order for us to simulate a machine with limited capacity and resources.\n",
    "\n",
    "\n",
    "### Data Specifications\n",
    "The dataset used was a Landsat 8 satellite image with the following specifications: \n",
    "- Bands: 3 and 4\n",
    "- Filesize: 119.6 mb each\n",
    "- Arraysize: 7641, 7821\n",
    "\n",
    "As you can see that our data can be processed by any computer which can be bought from the market. But for the current virtual machine that we have setup, our machine will struggle to process this and may give us an *out of memory* error.\n",
    "\n",
    "You can download similar Landsat 8 datasets at https://libra.developmentseed.org/\n"
   ]
  },
  {
   "cell_type": "markdown",
   "metadata": {
    "deletable": true,
    "editable": true
   },
   "source": [
    "### Implementation Details\n",
    "The following example will show the typical way of manipulating satellite images in python."
   ]
  },
  {
   "cell_type": "markdown",
   "metadata": {
    "deletable": true,
    "editable": true
   },
   "source": [
    "### Rasterio + Numpy\n",
    "The typical way of manipulating this data is to use gdal/rasterio and numpy. Note that the numpy library utilizes your machines RAM or memory for its processing."
   ]
  },
  {
   "cell_type": "code",
   "execution_count": 1,
   "metadata": {
    "collapsed": false,
    "deletable": true,
    "editable": true
   },
   "outputs": [
    {
     "ename": "MemoryError",
     "evalue": "",
     "output_type": "error",
     "traceback": [
      "\u001b[0;31m---------------------------------------------------------------------------\u001b[0m",
      "\u001b[0;31mMemoryError\u001b[0m                               Traceback (most recent call last)",
      "\u001b[0;32m<ipython-input-1-770ed4093154>\u001b[0m in \u001b[0;36m<module>\u001b[0;34m()\u001b[0m\n\u001b[1;32m      8\u001b[0m \u001b[0mnp_nir\u001b[0m \u001b[0;34m=\u001b[0m \u001b[0mrio_dataset_nir\u001b[0m\u001b[0;34m.\u001b[0m\u001b[0mread\u001b[0m\u001b[0;34m(\u001b[0m\u001b[0;34m)\u001b[0m\u001b[0;34m\u001b[0m\u001b[0m\n\u001b[1;32m      9\u001b[0m \u001b[0;34m\u001b[0m\u001b[0m\n\u001b[0;32m---> 10\u001b[0;31m \u001b[0mndvi\u001b[0m \u001b[0;34m=\u001b[0m \u001b[0;34m(\u001b[0m\u001b[0mnp_nir\u001b[0m \u001b[0;34m-\u001b[0m \u001b[0mnp_red\u001b[0m\u001b[0;34m)\u001b[0m \u001b[0;34m/\u001b[0m \u001b[0;34m(\u001b[0m\u001b[0mnp_nir\u001b[0m \u001b[0;34m+\u001b[0m \u001b[0mnp_red\u001b[0m\u001b[0;34m)\u001b[0m\u001b[0;34m\u001b[0m\u001b[0m\n\u001b[0m\u001b[1;32m     11\u001b[0m \u001b[0mndvi\u001b[0m\u001b[0;34m\u001b[0m\u001b[0m\n",
      "\u001b[0;31mMemoryError\u001b[0m: "
     ]
    }
   ],
   "source": [
    "import numpy as np\n",
    "import rasterio as rio\n",
    "\n",
    "rio_dataset_red = rio.open('../data/LC81160482016300LGN00_B3.TIF')\n",
    "rio_dataset_nir = rio.open('../data/LC81160482016300LGN00_B4.TIF')\n",
    "\n",
    "np_red = rio_dataset_red.read()\n",
    "np_nir = rio_dataset_nir.read()\n",
    "\n",
    "ndvi = (np_nir - np_red) / (np_nir + np_red)\n",
    "ndvi"
   ]
  },
  {
   "cell_type": "markdown",
   "metadata": {
    "deletable": true,
    "editable": true
   },
   "source": [
    "As you have noticed the typical way of reading and manipulating these sizes of data will not work on our virtual machine since we have a very low RAM.\n",
    "\n",
    "\n",
    "### Dask saves the Day\n",
    "Dask allows us to manipulate these types of data which will not fit into memory.\n",
    "\n",
    "Dask does not have an out of the box support for geospatial datasets therefore we will use the following script/implementation which integrates rasterio, dask and numpy. \n",
    "\n",
    "The rasterio-dask implementation was created by **Luke Pinner** and can be accessed through the following link: https://gist.github.com/lpinner/bd57b54a5c6903e4a6a2 "
   ]
  },
  {
   "cell_type": "code",
   "execution_count": 1,
   "metadata": {
    "collapsed": false,
    "deletable": true,
    "editable": true
   },
   "outputs": [],
   "source": [
    "import numpy as np\n",
    "import rasterio as rio\n",
    "import dask\n",
    "import dask.array as da\n",
    "\n",
    "class RioArray(da.Array):\n",
    "    def __init__(self, filepath, band=1):\n",
    "        self.dataset = rio.open(filepath)\n",
    "        blocks = list(self.dataset.block_windows())\n",
    "        block_shape = self.dataset.block_shapes[band-1]\n",
    "        chunks = block_shape\n",
    "        dask = {(filepath,ji[0],ji[1]):\n",
    "                   (self.dataset.read, band, None, window)\n",
    "                   for ji, window in blocks\n",
    "               }\n",
    "\n",
    "        name = filepath\n",
    "        dtype = self.dataset.dtypes[band-1]\n",
    "        shape = self.dataset.shape\n",
    "\n",
    "        da.Array.__init__(self, dask, name, chunks, dtype, shape)\n",
    "\n",
    "\n",
    "    def __del__(self):\n",
    "        try:\n",
    "            self._dataset.close()\n",
    "            del self._dataset\n",
    "        except:pass\n"
   ]
  },
  {
   "cell_type": "markdown",
   "metadata": {
    "deletable": true,
    "editable": true
   },
   "source": [
    "The *RioArray()* requires the location of your data and the band number you wish to process.\n",
    "\n",
    "The following example will compute the Normalized Digital Vegetation Index or NDVI which enables researchers and other experts determine if there is a live vegetation or not. In this case, we will use bands 3 (red band) and 4 (near infrared) to compute NDVI and using these bands we assign them to `red` and `nir` respectively.\n",
    "\n",
    "The formula for computing NDVI:\n",
    "\n",
    "**NDVI = (nir - red) / (nir + red)**"
   ]
  },
  {
   "cell_type": "code",
   "execution_count": 2,
   "metadata": {
    "collapsed": true,
    "deletable": true,
    "editable": true
   },
   "outputs": [],
   "source": [
    "red = RioArray('../data/LC81160482016300LGN00_B3.TIF', 1)\n",
    "nir = RioArray('../data/LC81160482016300LGN00_B4.TIF', 1)"
   ]
  },
  {
   "cell_type": "markdown",
   "metadata": {
    "deletable": true,
    "editable": true
   },
   "source": [
    "We can print the red where this will return a Dask object."
   ]
  },
  {
   "cell_type": "code",
   "execution_count": 3,
   "metadata": {
    "collapsed": false,
    "deletable": true,
    "editable": true
   },
   "outputs": [
    {
     "data": {
      "text/plain": [
       "dask.array<../data/LC81160482016300LGN00_B3.TIF, shape=(7821, 7641), dtype=uint16, chunksize=(1, 7641)>"
      ]
     },
     "execution_count": 3,
     "metadata": {},
     "output_type": "execute_result"
    }
   ],
   "source": [
    "red"
   ]
  },
  {
   "cell_type": "markdown",
   "metadata": {
    "deletable": true,
    "editable": true
   },
   "source": [
    "Applying the formula above:"
   ]
  },
  {
   "cell_type": "code",
   "execution_count": 4,
   "metadata": {
    "collapsed": false,
    "deletable": true,
    "editable": true
   },
   "outputs": [
    {
     "name": "stderr",
     "output_type": "stream",
     "text": [
      "/home/ubuntu/env/lib/python3.5/site-packages/dask/array/core.py:476: RuntimeWarning: divide by zero encountered in true_divide\n",
      "  o = func(*args, **kwargs)\n"
     ]
    },
    {
     "data": {
      "text/plain": [
       "dask.array<truediv, shape=(7821, 7641), dtype=float64, chunksize=(1, 7641)>"
      ]
     },
     "execution_count": 4,
     "metadata": {},
     "output_type": "execute_result"
    }
   ],
   "source": [
    "ndvi = (nir - red) / (nir + red)\n",
    "ndvi"
   ]
  },
  {
   "cell_type": "markdown",
   "metadata": {
    "deletable": true,
    "editable": true
   },
   "source": [
    "Notice that the even though we have applied the formula it will still return the Dask object. Dask will not execute the operation until you have called the *compute()* function. \n",
    "\n",
    "**Note:**\n",
    "The *compute()* function will execute the operation into memory. Executing this method for a resource stricken machine or operations having large results is not advisable.\n",
    "\n",
    "In the following cell, we will try executing the *compute()* function."
   ]
  },
  {
   "cell_type": "code",
   "execution_count": 5,
   "metadata": {
    "collapsed": false,
    "deletable": true,
    "editable": true
   },
   "outputs": [
    {
     "name": "stderr",
     "output_type": "stream",
     "text": [
      "/home/ubuntu/env/lib/python3.5/site-packages/dask/async.py:247: RuntimeWarning: invalid value encountered in true_divide\n",
      "  return func(*args2)\n",
      "/home/ubuntu/env/lib/python3.5/site-packages/dask/async.py:247: RuntimeWarning: divide by zero encountered in true_divide\n",
      "  return func(*args2)\n"
     ]
    },
    {
     "ename": "MemoryError",
     "evalue": "",
     "output_type": "error",
     "traceback": [
      "\u001b[0;31m---------------------------------------------------------------------------\u001b[0m",
      "\u001b[0;31mMemoryError\u001b[0m                               Traceback (most recent call last)",
      "\u001b[0;32m<ipython-input-5-ced20570bd01>\u001b[0m in \u001b[0;36m<module>\u001b[0;34m()\u001b[0m\n\u001b[0;32m----> 1\u001b[0;31m \u001b[0mndvi\u001b[0m\u001b[0;34m.\u001b[0m\u001b[0mcompute\u001b[0m\u001b[0;34m(\u001b[0m\u001b[0;34m)\u001b[0m\u001b[0;34m\u001b[0m\u001b[0m\n\u001b[0m",
      "\u001b[0;32m/home/ubuntu/env/lib/python3.5/site-packages/dask/base.py\u001b[0m in \u001b[0;36mcompute\u001b[0;34m(self, **kwargs)\u001b[0m\n\u001b[1;32m     93\u001b[0m             \u001b[0mExtra\u001b[0m \u001b[0mkeywords\u001b[0m \u001b[0mto\u001b[0m \u001b[0mforward\u001b[0m \u001b[0mto\u001b[0m \u001b[0mthe\u001b[0m \u001b[0mscheduler\u001b[0m\u001b[0;31m \u001b[0m\u001b[0;31m`\u001b[0m\u001b[0;31m`\u001b[0m\u001b[0mget\u001b[0m\u001b[0;31m`\u001b[0m\u001b[0;31m`\u001b[0m \u001b[0mfunction\u001b[0m\u001b[0;34m.\u001b[0m\u001b[0;34m\u001b[0m\u001b[0m\n\u001b[1;32m     94\u001b[0m         \"\"\"\n\u001b[0;32m---> 95\u001b[0;31m         \u001b[0;34m(\u001b[0m\u001b[0mresult\u001b[0m\u001b[0;34m,\u001b[0m\u001b[0;34m)\u001b[0m \u001b[0;34m=\u001b[0m \u001b[0mcompute\u001b[0m\u001b[0;34m(\u001b[0m\u001b[0mself\u001b[0m\u001b[0;34m,\u001b[0m \u001b[0mtraverse\u001b[0m\u001b[0;34m=\u001b[0m\u001b[0;32mFalse\u001b[0m\u001b[0;34m,\u001b[0m \u001b[0;34m**\u001b[0m\u001b[0mkwargs\u001b[0m\u001b[0;34m)\u001b[0m\u001b[0;34m\u001b[0m\u001b[0m\n\u001b[0m\u001b[1;32m     96\u001b[0m         \u001b[0;32mreturn\u001b[0m \u001b[0mresult\u001b[0m\u001b[0;34m\u001b[0m\u001b[0m\n\u001b[1;32m     97\u001b[0m \u001b[0;34m\u001b[0m\u001b[0m\n",
      "\u001b[0;32m/home/ubuntu/env/lib/python3.5/site-packages/dask/base.py\u001b[0m in \u001b[0;36mcompute\u001b[0;34m(*args, **kwargs)\u001b[0m\n\u001b[1;32m    205\u001b[0m     return tuple(a if not isinstance(a, Base)\n\u001b[1;32m    206\u001b[0m                  \u001b[0;32melse\u001b[0m \u001b[0ma\u001b[0m\u001b[0;34m.\u001b[0m\u001b[0m_finalize\u001b[0m\u001b[0;34m(\u001b[0m\u001b[0mnext\u001b[0m\u001b[0;34m(\u001b[0m\u001b[0mresults_iter\u001b[0m\u001b[0;34m)\u001b[0m\u001b[0;34m)\u001b[0m\u001b[0;34m\u001b[0m\u001b[0m\n\u001b[0;32m--> 207\u001b[0;31m                  for a in args)\n\u001b[0m\u001b[1;32m    208\u001b[0m \u001b[0;34m\u001b[0m\u001b[0m\n\u001b[1;32m    209\u001b[0m \u001b[0;34m\u001b[0m\u001b[0m\n",
      "\u001b[0;32m/home/ubuntu/env/lib/python3.5/site-packages/dask/base.py\u001b[0m in \u001b[0;36m<genexpr>\u001b[0;34m(.0)\u001b[0m\n\u001b[1;32m    205\u001b[0m     return tuple(a if not isinstance(a, Base)\n\u001b[1;32m    206\u001b[0m                  \u001b[0;32melse\u001b[0m \u001b[0ma\u001b[0m\u001b[0;34m.\u001b[0m\u001b[0m_finalize\u001b[0m\u001b[0;34m(\u001b[0m\u001b[0mnext\u001b[0m\u001b[0;34m(\u001b[0m\u001b[0mresults_iter\u001b[0m\u001b[0;34m)\u001b[0m\u001b[0;34m)\u001b[0m\u001b[0;34m\u001b[0m\u001b[0m\n\u001b[0;32m--> 207\u001b[0;31m                  for a in args)\n\u001b[0m\u001b[1;32m    208\u001b[0m \u001b[0;34m\u001b[0m\u001b[0m\n\u001b[1;32m    209\u001b[0m \u001b[0;34m\u001b[0m\u001b[0m\n",
      "\u001b[0;32m/home/ubuntu/env/lib/python3.5/site-packages/dask/array/core.py\u001b[0m in \u001b[0;36mfinalize\u001b[0;34m(results)\u001b[0m\n\u001b[1;32m    914\u001b[0m     \u001b[0;32mwhile\u001b[0m \u001b[0misinstance\u001b[0m\u001b[0;34m(\u001b[0m\u001b[0mresults2\u001b[0m\u001b[0;34m,\u001b[0m \u001b[0;34m(\u001b[0m\u001b[0mtuple\u001b[0m\u001b[0;34m,\u001b[0m \u001b[0mlist\u001b[0m\u001b[0;34m)\u001b[0m\u001b[0;34m)\u001b[0m\u001b[0;34m:\u001b[0m\u001b[0;34m\u001b[0m\u001b[0m\n\u001b[1;32m    915\u001b[0m         \u001b[0;32mif\u001b[0m \u001b[0mlen\u001b[0m\u001b[0;34m(\u001b[0m\u001b[0mresults2\u001b[0m\u001b[0;34m)\u001b[0m \u001b[0;34m>\u001b[0m \u001b[0;36m1\u001b[0m\u001b[0;34m:\u001b[0m\u001b[0;34m\u001b[0m\u001b[0m\n\u001b[0;32m--> 916\u001b[0;31m             \u001b[0;32mreturn\u001b[0m \u001b[0mconcatenate3\u001b[0m\u001b[0;34m(\u001b[0m\u001b[0mresults\u001b[0m\u001b[0;34m)\u001b[0m\u001b[0;34m\u001b[0m\u001b[0m\n\u001b[0m\u001b[1;32m    917\u001b[0m         \u001b[0;32melse\u001b[0m\u001b[0;34m:\u001b[0m\u001b[0;34m\u001b[0m\u001b[0m\n\u001b[1;32m    918\u001b[0m             \u001b[0mresults2\u001b[0m \u001b[0;34m=\u001b[0m \u001b[0mresults2\u001b[0m\u001b[0;34m[\u001b[0m\u001b[0;36m0\u001b[0m\u001b[0;34m]\u001b[0m\u001b[0;34m\u001b[0m\u001b[0m\n",
      "\u001b[0;32m/home/ubuntu/env/lib/python3.5/site-packages/dask/array/core.py\u001b[0m in \u001b[0;36mconcatenate3\u001b[0;34m(arrays)\u001b[0m\n\u001b[1;32m   3344\u001b[0m             \u001b[0;32mreturn\u001b[0m \u001b[0mtype\u001b[0m\u001b[0;34m(\u001b[0m\u001b[0mx\u001b[0m\u001b[0;34m)\u001b[0m\u001b[0;34m\u001b[0m\u001b[0m\n\u001b[1;32m   3345\u001b[0m \u001b[0;34m\u001b[0m\u001b[0m\n\u001b[0;32m-> 3346\u001b[0;31m     \u001b[0mresult\u001b[0m \u001b[0;34m=\u001b[0m \u001b[0mnp\u001b[0m\u001b[0;34m.\u001b[0m\u001b[0mempty\u001b[0m\u001b[0;34m(\u001b[0m\u001b[0mshape\u001b[0m\u001b[0;34m=\u001b[0m\u001b[0mshape\u001b[0m\u001b[0;34m,\u001b[0m \u001b[0mdtype\u001b[0m\u001b[0;34m=\u001b[0m\u001b[0mdtype\u001b[0m\u001b[0;34m(\u001b[0m\u001b[0mdeepfirst\u001b[0m\u001b[0;34m(\u001b[0m\u001b[0marrays\u001b[0m\u001b[0;34m)\u001b[0m\u001b[0;34m)\u001b[0m\u001b[0;34m)\u001b[0m\u001b[0;34m\u001b[0m\u001b[0m\n\u001b[0m\u001b[1;32m   3347\u001b[0m \u001b[0;34m\u001b[0m\u001b[0m\n\u001b[1;32m   3348\u001b[0m     \u001b[0;32mfor\u001b[0m \u001b[0;34m(\u001b[0m\u001b[0midx\u001b[0m\u001b[0;34m,\u001b[0m \u001b[0marr\u001b[0m\u001b[0;34m)\u001b[0m \u001b[0;32min\u001b[0m \u001b[0mzip\u001b[0m\u001b[0;34m(\u001b[0m\u001b[0mslices_from_chunks\u001b[0m\u001b[0;34m(\u001b[0m\u001b[0mchunks\u001b[0m\u001b[0;34m)\u001b[0m\u001b[0;34m,\u001b[0m \u001b[0mcore\u001b[0m\u001b[0;34m.\u001b[0m\u001b[0mflatten\u001b[0m\u001b[0;34m(\u001b[0m\u001b[0marrays\u001b[0m\u001b[0;34m)\u001b[0m\u001b[0;34m)\u001b[0m\u001b[0;34m:\u001b[0m\u001b[0;34m\u001b[0m\u001b[0m\n",
      "\u001b[0;31mMemoryError\u001b[0m: "
     ]
    }
   ],
   "source": [
    "ndvi.compute()"
   ]
  },
  {
   "cell_type": "markdown",
   "metadata": {
    "deletable": true,
    "editable": true
   },
   "source": [
    "Notice that dask will produce a *MemoryError* since the result will utilize more than 1GB of memory.\n",
    "\n",
    "In these cases, where the size of the result is more than the size of the allocated memory we will use the disk space of our machine. The *compute()* function is similar with how use a typical numpy array.\n",
    "\n",
    "Dask provides us a mechanism where we can store our result onto disk where we have more than enough.\n",
    "\n",
    "In the following cell, we will save the result of our operations to disk using *to_hdf5()*. This function stores the result of our NDVI computation into hdf5."
   ]
  },
  {
   "cell_type": "code",
   "execution_count": 6,
   "metadata": {
    "collapsed": false,
    "deletable": true,
    "editable": true,
    "scrolled": true
   },
   "outputs": [
    {
     "name": "stderr",
     "output_type": "stream",
     "text": [
      "/home/ubuntu/env/lib/python3.5/site-packages/dask/async.py:247: RuntimeWarning: invalid value encountered in true_divide\n",
      "  return func(*args2)\n",
      "/home/ubuntu/env/lib/python3.5/site-packages/dask/async.py:247: RuntimeWarning: divide by zero encountered in true_divide\n",
      "  return func(*args2)\n"
     ]
    }
   ],
   "source": [
    "# store the resultant/intermediate arrays onto disk\n",
    "da.to_hdf5('ndvi_result.hdf5', '/ndvi', ndvi)"
   ]
  },
  {
   "cell_type": "markdown",
   "metadata": {
    "deletable": true,
    "editable": true
   },
   "source": [
    "Notice that we didn't have any problem with memory. I should be noted though that storing our computation to disk may create additional latency. \n",
    "\n",
    "Let us inspect the created hdf5 file. Notice the file size generated."
   ]
  },
  {
   "cell_type": "code",
   "execution_count": 7,
   "metadata": {
    "collapsed": false,
    "deletable": true,
    "editable": true
   },
   "outputs": [
    {
     "data": {
      "text/plain": [
       "478494200"
      ]
     },
     "execution_count": 7,
     "metadata": {},
     "output_type": "execute_result"
    }
   ],
   "source": [
    "import os\n",
    "statinfo = os.stat('ndvi_result.hdf5')\n",
    "statinfo.st_size"
   ]
  },
  {
   "cell_type": "markdown",
   "metadata": {
    "deletable": true,
    "editable": true
   },
   "source": [
    "The result is around 478mb.\n",
    "\n",
    "It can be said that the filesize can be stored into 1GB RAM but it should be noted that the operating system and other processes also takes up RAM so loading this file into memory may introduce *MemoryError* for a resource stricken machine."
   ]
  }
 ],
 "metadata": {
  "kernelspec": {
   "display_name": "Python 3",
   "language": "python",
   "name": "python3"
  },
  "language_info": {
   "codemirror_mode": {
    "name": "ipython",
    "version": 3
   },
   "file_extension": ".py",
   "mimetype": "text/x-python",
   "name": "python",
   "nbconvert_exporter": "python",
   "pygments_lexer": "ipython3",
   "version": "3.5.2"
  }
 },
 "nbformat": 4,
 "nbformat_minor": 2
}
